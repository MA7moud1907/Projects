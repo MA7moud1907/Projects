{
 "cells": [
  {
   "cell_type": "code",
   "execution_count": 1,
   "id": "2ffe7d88",
   "metadata": {},
   "outputs": [],
   "source": [
    "import requests \n",
    "from bs4 import BeautifulSoup"
   ]
  },
  {
   "cell_type": "code",
   "execution_count": 2,
   "id": "4c0e864c",
   "metadata": {},
   "outputs": [],
   "source": [
    "url='https://www.yallakora.com/match-center/%d9%85%d8%b1%d9%83%d8%b2-%d8%a7%d9%84%d9%85%d8%a8%d8%a7%d8%b1%d9%8a%d8%a7%d8%aa#'"
   ]
  },
  {
   "cell_type": "code",
   "execution_count": 3,
   "id": "553ce75f",
   "metadata": {},
   "outputs": [],
   "source": [
    "response= requests.get(url)\n",
    "content=response.content"
   ]
  },
  {
   "cell_type": "code",
   "execution_count": 30,
   "id": "51cf1410",
   "metadata": {},
   "outputs": [],
   "source": [
    "soup=BeautifulSoup(content,'html.parser')\n"
   ]
  },
  {
   "cell_type": "code",
   "execution_count": 5,
   "id": "6bd7bed1",
   "metadata": {},
   "outputs": [],
   "source": [
    "championships=soup.find_all('div',class_='matchCard')"
   ]
  },
  {
   "cell_type": "code",
   "execution_count": 31,
   "id": "de405ee4",
   "metadata": {},
   "outputs": [],
   "source": [
    "matches = championships[0].contents[3].find_all('li')\n"
   ]
  },
  {
   "cell_type": "code",
   "execution_count": 10,
   "id": "9591f038",
   "metadata": {},
   "outputs": [
    {
     "name": "stdout",
     "output_type": "stream",
     "text": [
      "كأس العالم لكرة السلة\n",
      "الدوري الإنجليزي\n",
      "الدوري الإسباني\n",
      "البطولة العربية للأندية لكرة اليد\n",
      "الدوري الإيطالي\n",
      "الدوري الألماني\n",
      "الدوري الفرنسي\n",
      "دوري أبطال إفريقيا\n",
      "الكونفيدرالية الإفريقية\n",
      "الدوري التركي\n",
      "الدوري التونسي\n",
      "الدوري المغربي\n",
      "الدوري البرتغالي\n",
      "دوري نجوم قطر\n",
      "الدوري الإماراتي\n"
     ]
    }
   ],
   "source": [
    "for i in range(len(championships)):\n",
    "    print(championships[i].contents[1].find('h2').text.strip())"
   ]
  },
  {
   "cell_type": "code",
   "execution_count": 11,
   "id": "d466e54a",
   "metadata": {},
   "outputs": [
    {
     "name": "stdout",
     "output_type": "stream",
     "text": [
      "إيطاليا 82 - 87 الدومينيكان 11:00 بى ان سبورت 4 HD\n",
      "أستراليا 82 - 85 ألمانيا 11:30 بى ان سبورت 3 HD\n",
      "الجبل الاسود 89 - 74 مصر 11:45 بى ان سبورت 1HD\n",
      "لبنان 73 - 128 كندا 12:45 بى ان سبورت 6 HD\n",
      "الفلبين 70 - 80 أنجولا 15:00 بى ان سبورت 1HD\n",
      "اليابان 98 - 88 فنلندا 15:10 بى ان سبورت HD\n",
      "ليتوانيا 96 - 66 المكسيك 15:30 بى ان سبورت 7 HD\n",
      "فرنسا 86 - 88 لاتفيا 16:30 بى ان سبورت 5 HD\n"
     ]
    }
   ],
   "source": [
    "matche_deatails=[]\n",
    "for i in range(len(matches)):\n",
    "    teamA=matches[i].find('div',{'class':'teamA'}).text.strip()\n",
    "    teamB=matches[i].find('div',{'class':'teamB'}).text.strip()\n",
    "    results=matches[i].find('div',{'class':'MResult'}).find_all('span',{'class':'score'})\n",
    "    score=f'{results[0].text.strip()} - {results[1].text.strip()}'\n",
    "    time=matches[i].find('div',{'class':'MResult'}).find('span',{'class':'time'}).text.strip()\n",
    "    channel=matches[i].find('div',{'class':\"channel\"}).text.strip()\n",
    "    print(teamA, score,teamB ,time ,channel)\n",
    "    \n",
    "    \n",
    "\n",
    "  \n",
    "\n",
    "    \n",
    "\n",
    "\n",
    "\n"
   ]
  },
  {
   "cell_type": "code",
   "execution_count": 27,
   "id": "8a950220",
   "metadata": {},
   "outputs": [],
   "source": [
    "matches=championships[0].contents[3].find_all('li')\n"
   ]
  },
  {
   "cell_type": "code",
   "execution_count": 15,
   "id": "3488ccde",
   "metadata": {},
   "outputs": [
    {
     "name": "stdout",
     "output_type": "stream",
     "text": [
      "كأس العالم لكرة السلة\n",
      "إيطاليا الدومينيكان 82 - 87 11:00\n",
      "أستراليا ألمانيا 82 - 85 11:30\n",
      "الجبل الاسود مصر 89 - 74 11:45\n",
      "لبنان كندا 73 - 128 12:45\n",
      "الفلبين أنجولا 70 - 80 15:00\n",
      "اليابان فنلندا 98 - 88 15:10\n",
      "ليتوانيا المكسيك 96 - 66 15:30\n",
      "فرنسا لاتفيا 86 - 88 16:30\n",
      "الدوري الإنجليزي\n",
      "بيرنلي استون فيلا 1 - 3 16:00\n",
      "شيفيلد يونايتد مانشستر سيتي 1 - 2 16:00\n",
      "نيوكاسل ليفربول 1 - 2 18:30\n",
      "الدوري الإسباني\n",
      "فياريال برشلونة 3 - 4 18:30\n",
      "فالنسيا أوساسونا 1 - 1 20:30\n",
      "اتليتك بلباو ريال بيتيس 0 - 0 22:30\n",
      "البطولة العربية للأندية لكرة اليد\n",
      "الهدى السعودي وفاق عين التوتة 34 - 32 13:00\n",
      "الحشد الرياضي العراقي العربي الكويتي 33 - 32 15:00\n",
      "مضر السعودي البنك الأهلي 28 - 29 17:00\n",
      "الزمالك نادي الكويت 30 - 31 19:30\n",
      "الدوري الإيطالي\n",
      "يوفنتوس بولونيا 1 - 1 19:30\n",
      "فيورنتينا ليتشي 2 - 2 19:30\n",
      "لاتسيو جنوى 0 - 1 21:45\n",
      "نابولي ساسولو 1 - 0 21:45\n",
      "الدوري الألماني\n",
      "ماينز آ. فرانكفورت 1 - 1 16:30\n",
      "بايرن ميونيخ أوجسبورج 3 - 1 18:30\n",
      "الدوري الفرنسي\n",
      "رين لوهافر 2 - 2 14:00\n",
      "مونبيليه ريمس 1 - 3 16:00\n",
      "ستراسبورج تولوز 2 - 0 16:00\n",
      "كليرمونت ميتز 0 - 1 16:00\n",
      "لوريان ليل 4 - 1 18:05\n",
      "نيس ليون 0 - 0 21:45\n",
      "دوري أبطال إفريقيا\n",
      "سان جورج كي إم كي إم 3 - 1 16:00\n",
      "الكونفيدرالية الإفريقية\n",
      "جيه.كيه.يو سينجيدا بيج ستارز 2 - 0 19:30\n",
      "الدوري التركي\n",
      "قيصري سبور سامسون سبور 2 - 1 19:15\n",
      "فاتح كاراجومروك أنقرة جوتشو 1 - 1 19:15\n",
      "ألانيا سبور هاتاي سبور 0 - 0 21:45\n",
      "الدوري التونسي\n",
      "اتحاد تطاوين الترجى الرياضي 1 - 1 18:30\n",
      "مستقبل المرسى الصفاقســــي 0 - 1 18:30\n",
      "البنزرتي الإتحاد المنستيري 0 - 2 18:30\n",
      "الدوري المغربي\n",
      "اتحاد طنجة الشباب الرياضي السالمي 0 - 2 19:00\n",
      "يوسفية برشيد الرجاء البيضاوي 1 - 1 21:15\n",
      "نهضة بركان مولودية وجدة - - - 23:30\n",
      "الدوري البرتغالي\n",
      "بوافيستا كازا بيا 1 - 1 17:30\n",
      "فيتوريا جيماريش فيزيلا 2 - 0 20:00\n",
      "سبورتينج لشبونة فاماليكاو - - - 22:30\n",
      "دوري نجوم قطر\n",
      "العربي ام صلال 1 - 1 18:30\n",
      "الوكرة الشمال 1 - 2 20:30\n",
      "الدوري الإماراتي\n",
      "شباب الأهلي خورفكان 2 - 1 17:00\n",
      "الشــارقة الوصل 1 - 3 19:30\n"
     ]
    }
   ],
   "source": [
    "for i in range(len(championships)):\n",
    "    matches_file = open(\"myfile.txt\",\"a\")\n",
    "    print(championships[i].contents[1].find('h2').text.strip())\n",
    "    matches = championships[i].contents[3].find_all('li')\n",
    "    for j in range(len(matches)):\n",
    "        teamA = matches[j].find('div', {'class':'teamA'}).text.strip()\n",
    "        teamB = matches[j].find('div', {'class':'teamB'}).text.strip()\n",
    "\n",
    "        results = matches[j].find('div', {'class':'MResult'}).find_all('span', {'class':'score'})\n",
    "        score = f'{results[0].text.strip()} - {results[1].text.strip()}'\n",
    "\n",
    "        time = matches[j].find('div', {'class':'MResult'}).find('span', {'class':'time'}).text.strip()\n",
    "\n",
    "        print(teamA, teamB, score, time)\n",
    "        \n",
    "  "
   ]
  },
  {
   "cell_type": "code",
   "execution_count": 26,
   "id": "3531139d",
   "metadata": {},
   "outputs": [
    {
     "name": "stdout",
     "output_type": "stream",
     "text": [
      "كأس العالم لكرة السلة\n",
      "إيطاليا الدومينيكان بى ان سبورت 4 HD\n",
      "أستراليا ألمانيا بى ان سبورت 3 HD\n",
      "الجبل الاسود مصر بى ان سبورت 1HD\n",
      "لبنان كندا بى ان سبورت 6 HD\n",
      "الفلبين أنجولا بى ان سبورت 1HD\n",
      "اليابان فنلندا بى ان سبورت HD\n",
      "ليتوانيا المكسيك بى ان سبورت 7 HD\n",
      "فرنسا لاتفيا بى ان سبورت 5 HD\n",
      "الدوري الإنجليزي\n",
      "بيرنلي استون فيلا بى ان سبورت بريميوم 2\n",
      "شيفيلد يونايتد مانشستر سيتي بى ان سبورت بريميوم 1\n",
      "نيوكاسل ليفربول بى ان سبورت بريميوم 1\n",
      "الدوري الإسباني\n",
      "فياريال برشلونة بى ان سبورت 1HD\n",
      "فالنسيا أوساسونا بى ان سبورت 4 HD\n",
      "اتليتك بلباو ريال بيتيس بى ان سبورت 1HD\n",
      "البطولة العربية للأندية لكرة اليد\n",
      "There is no channel الهدى السعودي وفاق عين التوتة\n",
      "There is no channel الحشد الرياضي العراقي العربي الكويتي\n",
      "There is no channel مضر السعودي البنك الأهلي\n",
      "الزمالك نادي الكويت الاتحاد العربي لكرة اليد Youtube\n",
      "الدوري الإيطالي\n",
      "يوفنتوس بولونيا Starz Play App\n",
      "فيورنتينا ليتشي Starz Play App\n",
      "لاتسيو جنوى Starz Play App\n",
      "نابولي ساسولو Starz Play App\n",
      "الدوري الألماني\n",
      "ماينز آ. فرانكفورت بى ان سبورت اكسترا 1\n",
      "بايرن ميونيخ أوجسبورج بى ان سبورت 3 HD\n",
      "الدوري الفرنسي\n",
      "رين لوهافر بى ان سبورت 2 HD\n",
      "مونبيليه ريمس بى ان سبورت 4 HD\n",
      "ستراسبورج تولوز بى ان سبورت 6 HD\n",
      "كليرمونت ميتز بى ان سبورت 3 HD\n",
      "لوريان ليل بى ان سبورت 2 HD\n",
      "نيس ليون بى ان سبورت 3 HD\n",
      "دوري أبطال إفريقيا\n",
      "There is no channel سان جورج كي إم كي إم\n",
      "الكونفيدرالية الإفريقية\n",
      "There is no channel جيه.كيه.يو سينجيدا بيج ستارز\n",
      "الدوري التركي\n",
      "قيصري سبور سامسون سبور بى ان سبورت تركيا\n",
      "فاتح كاراجومروك أنقرة جوتشو بى ان سبورت تركيا\n",
      "ألانيا سبور هاتاي سبور بى ان سبورت تركيا\n",
      "الدوري التونسي\n",
      "There is no channel اتحاد تطاوين الترجى الرياضي\n",
      "There is no channel مستقبل المرسى الصفاقســــي\n",
      "There is no channel البنزرتي الإتحاد المنستيري\n",
      "الدوري المغربي\n",
      "There is no channel اتحاد طنجة الشباب الرياضي السالمي\n",
      "There is no channel يوسفية برشيد الرجاء البيضاوي\n",
      "There is no channel نهضة بركان مولودية وجدة\n",
      "الدوري البرتغالي\n",
      "There is no channel بوافيستا كازا بيا\n",
      "There is no channel فيتوريا جيماريش فيزيلا\n",
      "There is no channel سبورتينج لشبونة فاماليكاو\n",
      "دوري نجوم قطر\n",
      "There is no channel العربي ام صلال\n",
      "There is no channel الوكرة الشمال\n",
      "الدوري الإماراتي\n",
      "There is no channel شباب الأهلي خورفكان\n",
      "There is no channel الشــارقة الوصل\n"
     ]
    }
   ],
   "source": [
    "for i in range(len(championships)):\n",
    "    matches_file = open(\"myfile.txt\",\"a\")\n",
    "    print(championships[i].contents[1].find('h2').text.strip())\n",
    "    matches = championships[i].contents[3].find_all('li')\n",
    "    for j in range(len(matches)):\n",
    "        teamA = matches[j].find('div', {'class':'teamA'}).text.strip()\n",
    "        teamB = matches[j].find('div', {'class':'teamB'}).text.strip()\n",
    "\n",
    "        results = matches[j].find('div', {'class':'MResult'}).find_all('span', {'class':'score'})\n",
    "        score = f'{results[0].text.strip()} - {results[1].text.strip()}'\n",
    "\n",
    "        time = matches[j].find('div', {'class':'MResult'}).find('span', {'class':'time'}).text.strip()\n",
    "        try:\n",
    "            channel = matches[j].find('div', {'class':\"channel\"}).text.strip()\n",
    "            print(teamA , teamB , channel)\n",
    "        except:\n",
    "            print('There is no channel',teamA,teamB,)"
   ]
  },
  {
   "cell_type": "code",
   "execution_count": null,
   "id": "81e017db",
   "metadata": {},
   "outputs": [],
   "source": []
  }
 ],
 "metadata": {
  "kernelspec": {
   "display_name": "Python 3 (ipykernel)",
   "language": "python",
   "name": "python3"
  },
  "language_info": {
   "codemirror_mode": {
    "name": "ipython",
    "version": 3
   },
   "file_extension": ".py",
   "mimetype": "text/x-python",
   "name": "python",
   "nbconvert_exporter": "python",
   "pygments_lexer": "ipython3",
   "version": "3.10.1"
  }
 },
 "nbformat": 4,
 "nbformat_minor": 5
}
